{
 "cells": [
  {
   "cell_type": "markdown",
   "metadata": {},
   "source": [
    "<center>\n",
    "    <img src=\"https://gitlab.com/ibm/skills-network/courses/placeholder101/-/raw/master/labs/module%201/images/IDSNlogo.png\" width=\"300\" alt=\"cognitiveclass.ai logo\"  />\n",
    "</center>\n"
   ]
  },
  {
   "cell_type": "markdown",
   "metadata": {},
   "source": [
    "# Peer Review Assignment - Data Engineer - Extract API Data\n"
   ]
  },
  {
   "cell_type": "markdown",
   "metadata": {},
   "source": [
    "Estimated time needed: **20** minutes\n"
   ]
  },
  {
   "cell_type": "markdown",
   "metadata": {},
   "source": [
    "## Objectives\n",
    "\n",
    "In this part you will:\n",
    "\n",
    "*   Collect exchange rate data using an API\n",
    "*   Store the data as a CSV\n"
   ]
  },
  {
   "cell_type": "markdown",
   "metadata": {},
   "source": [
    "For this lab, we are going to be using Python and several Python libraries. Some of these libraries might be installed in your lab environment or in SN Labs. Others may need to be installed by you. The cells below will install these libraries when executed.\n"
   ]
  },
  {
   "cell_type": "code",
   "execution_count": 1,
   "metadata": {},
   "outputs": [
    {
     "name": "stdout",
     "output_type": "stream",
     "text": [
      "Requirement already satisfied: pandas in /home/jupyterlab/conda/envs/python/lib/python3.7/site-packages (1.3.5)\n",
      "Requirement already satisfied: python-dateutil>=2.7.3 in /home/jupyterlab/conda/envs/python/lib/python3.7/site-packages (from pandas) (2.8.2)\n",
      "Requirement already satisfied: pytz>=2017.3 in /home/jupyterlab/conda/envs/python/lib/python3.7/site-packages (from pandas) (2021.3)\n",
      "Requirement already satisfied: numpy>=1.17.3 in /home/jupyterlab/conda/envs/python/lib/python3.7/site-packages (from pandas) (1.21.5)\n",
      "Requirement already satisfied: six>=1.5 in /home/jupyterlab/conda/envs/python/lib/python3.7/site-packages (from python-dateutil>=2.7.3->pandas) (1.16.0)\n",
      "Requirement already satisfied: requests in /home/jupyterlab/conda/envs/python/lib/python3.7/site-packages (2.27.1)\n",
      "Requirement already satisfied: certifi>=2017.4.17 in /home/jupyterlab/conda/envs/python/lib/python3.7/site-packages (from requests) (2021.10.8)\n",
      "Requirement already satisfied: urllib3<1.27,>=1.21.1 in /home/jupyterlab/conda/envs/python/lib/python3.7/site-packages (from requests) (1.26.8)\n",
      "Requirement already satisfied: idna<4,>=2.5 in /home/jupyterlab/conda/envs/python/lib/python3.7/site-packages (from requests) (3.3)\n",
      "Requirement already satisfied: charset-normalizer~=2.0.0 in /home/jupyterlab/conda/envs/python/lib/python3.7/site-packages (from requests) (2.0.12)\n"
     ]
    }
   ],
   "source": [
    "#!pip install pandas\n",
    "!pip install pandas\n",
    "#!pip install requests\n",
    "!pip install requests"
   ]
  },
  {
   "cell_type": "markdown",
   "metadata": {},
   "source": [
    "## Imports\n",
    "\n",
    "Import any additional libraries you may need here.\n"
   ]
  },
  {
   "cell_type": "code",
   "execution_count": 2,
   "metadata": {},
   "outputs": [],
   "source": [
    "import requests\n",
    "import pandas as pd\n",
    "import json"
   ]
  },
  {
   "cell_type": "markdown",
   "metadata": {},
   "source": [
    "## Extract Data Using an API\n"
   ]
  },
  {
   "cell_type": "markdown",
   "metadata": {},
   "source": [
    "Using ExchangeRate-API we will extract currency exchange rate data. Use the below steps to get the access key and to get the data.\n",
    "\n",
    "1.  Open the url : [https://exchangeratesapi.io/](https://exchangeratesapi.io/?utm_medium=Exinfluencer&utm_source=Exinfluencer&utm_content=000026UJ&utm_term=10006555&utm_id=NA-SkillsNetwork-Channel-SkillsNetworkCoursesIBMDeveloperSkillsNetworkPY0221ENSkillsNetwork23455645-2021-01-01) and create a free account.\n",
    "2.  Once the account is created. You will get the Get the Free API key option on the top as shown below:\n",
    "\n",
    "<img src=\"https://cf-courses-data.s3.us.cloud-object-storage.appdomain.cloud/IBMDeveloperSkillsNetwork-PY0221EN-SkillsNetwork/labs/module%206/Final%20Assignment/Images/getapi.png\"/>\n",
    "\n",
    "3.  Copy the API key and use in the url in Question 1.\n"
   ]
  },
  {
   "cell_type": "markdown",
   "metadata": {},
   "source": [
    "### Call the API\n",
    "\n",
    "<b> Question 1</b> Using the `requests` library call the endpoint given above and save the text, remember the first few characters of the output:\n"
   ]
  },
  {
   "cell_type": "code",
   "execution_count": 3,
   "metadata": {},
   "outputs": [
    {
     "data": {
      "text/plain": [
       "{'success': True,\n",
       " 'timestamp': 1650472696,\n",
       " 'base': 'EUR',\n",
       " 'date': '2022-04-20',\n",
       " 'rates': {'AED': 3.988321,\n",
       "  'AFN': 94.469704,\n",
       "  'ALL': 120.367796,\n",
       "  'AMD': 509.495289,\n",
       "  'ANG': 1.957737,\n",
       "  'AOA': 447.355915,\n",
       "  'ARS': 123.711605,\n",
       "  'AUD': 1.456747,\n",
       "  'AWG': 1.955089,\n",
       "  'AZN': 1.842817,\n",
       "  'BAM': 1.956567,\n",
       "  'BBD': 2.193285,\n",
       "  'BDT': 93.664864,\n",
       "  'BGN': 1.956171,\n",
       "  'BHD': 0.409424,\n",
       "  'BIF': 2186.919664,\n",
       "  'BMD': 1.085859,\n",
       "  'BND': 1.48123,\n",
       "  'BOB': 7.468074,\n",
       "  'BRL': 5.020576,\n",
       "  'BSD': 1.086289,\n",
       "  'BTC': 2.6283135e-05,\n",
       "  'BTN': 83.049168,\n",
       "  'BWP': 12.690144,\n",
       "  'BYN': 3.599555,\n",
       "  'BYR': 21282.832877,\n",
       "  'BZD': 2.189634,\n",
       "  'CAD': 1.356232,\n",
       "  'CDF': 2184.748337,\n",
       "  'CHF': 1.028569,\n",
       "  'CLF': 0.032075,\n",
       "  'CLP': 884.67075,\n",
       "  'CNY': 6.970345,\n",
       "  'COP': 4081.384972,\n",
       "  'CRC': 709.086968,\n",
       "  'CUC': 1.085859,\n",
       "  'CUP': 28.775259,\n",
       "  'CVE': 110.67056,\n",
       "  'CZK': 24.37411,\n",
       "  'DJF': 193.379245,\n",
       "  'DKK': 7.439512,\n",
       "  'DOP': 59.776727,\n",
       "  'DZD': 155.923781,\n",
       "  'EGP': 20.072752,\n",
       "  'ERN': 16.287884,\n",
       "  'ETB': 55.702558,\n",
       "  'EUR': 1,\n",
       "  'FJD': 2.28704,\n",
       "  'FKP': 0.834637,\n",
       "  'GBP': 0.831279,\n",
       "  'GEL': 3.295567,\n",
       "  'GGP': 0.834637,\n",
       "  'GHS': 8.171125,\n",
       "  'GIP': 0.834637,\n",
       "  'GMD': 58.525704,\n",
       "  'GNF': 9620.708919,\n",
       "  'GTQ': 8.323557,\n",
       "  'GYD': 227.261377,\n",
       "  'HKD': 8.517243,\n",
       "  'HNL': 26.560229,\n",
       "  'HRK': 7.563985,\n",
       "  'HTG': 118.403488,\n",
       "  'HUF': 370.876174,\n",
       "  'IDR': 15588.426344,\n",
       "  'ILS': 3.49626,\n",
       "  'IMP': 0.834637,\n",
       "  'INR': 82.83496,\n",
       "  'IQD': 1585.353878,\n",
       "  'IRR': 45986.120959,\n",
       "  'ISK': 139.03313,\n",
       "  'JEP': 0.834637,\n",
       "  'JMD': 168.132204,\n",
       "  'JOD': 0.76985,\n",
       "  'JPY': 138.707068,\n",
       "  'KES': 125.470594,\n",
       "  'KGS': 89.64579,\n",
       "  'KHR': 4395.556242,\n",
       "  'KMF': 492.547887,\n",
       "  'KPW': 977.273067,\n",
       "  'KRW': 1340.6719,\n",
       "  'KWD': 0.331567,\n",
       "  'KYD': 0.905224,\n",
       "  'KZT': 481.171158,\n",
       "  'LAK': 12943.43717,\n",
       "  'LBP': 1647.247507,\n",
       "  'LKR': 358.458856,\n",
       "  'LRD': 164.996703,\n",
       "  'LSL': 16.374499,\n",
       "  'LTL': 3.206259,\n",
       "  'LVL': 0.656825,\n",
       "  'LYD': 5.119833,\n",
       "  'MAD': 10.634354,\n",
       "  'MDL': 20.074558,\n",
       "  'MGA': 4343.435536,\n",
       "  'MKD': 61.638206,\n",
       "  'MMK': 2011.217769,\n",
       "  'MNT': 3251.998619,\n",
       "  'MOP': 8.775004,\n",
       "  'MRO': 387.651412,\n",
       "  'MUR': 46.69403,\n",
       "  'MVR': 16.776667,\n",
       "  'MWK': 883.352175,\n",
       "  'MXN': 21.741054,\n",
       "  'MYR': 4.649659,\n",
       "  'MZN': 69.31021,\n",
       "  'NAD': 16.374945,\n",
       "  'NGN': 451.173238,\n",
       "  'NIO': 38.797989,\n",
       "  'NOK': 9.554651,\n",
       "  'NPR': 132.87658,\n",
       "  'NZD': 1.595514,\n",
       "  'OMR': 0.418061,\n",
       "  'PAB': 1.086309,\n",
       "  'PEN': 4.020923,\n",
       "  'PGK': 3.811089,\n",
       "  'PHP': 57.098263,\n",
       "  'PKR': 202.023837,\n",
       "  'PLN': 4.636707,\n",
       "  'PYG': 7442.402026,\n",
       "  'QAR': 3.953634,\n",
       "  'RON': 4.945648,\n",
       "  'RSD': 117.679959,\n",
       "  'RUB': 89.582912,\n",
       "  'RWF': 1110.833573,\n",
       "  'SAR': 4.072329,\n",
       "  'SBD': 8.714808,\n",
       "  'SCR': 15.654056,\n",
       "  'SDG': 485.923962,\n",
       "  'SEK': 10.244589,\n",
       "  'SGD': 1.480558,\n",
       "  'SHP': 1.495661,\n",
       "  'SLL': 13432.073555,\n",
       "  'SOS': 628.712128,\n",
       "  'SRD': 22.510912,\n",
       "  'STD': 22475.085239,\n",
       "  'SVC': 9.505579,\n",
       "  'SYP': 2728.16544,\n",
       "  'SZL': 16.369363,\n",
       "  'THB': 36.690052,\n",
       "  'TJS': 13.578512,\n",
       "  'TMT': 3.800506,\n",
       "  'TND': 3.282546,\n",
       "  'TOP': 2.470438,\n",
       "  'TRY': 15.933816,\n",
       "  'TTD': 7.37364,\n",
       "  'TWD': 31.745086,\n",
       "  'TZS': 2521.363985,\n",
       "  'UAH': 31.936724,\n",
       "  'UGX': 3839.975004,\n",
       "  'USD': 1.085859,\n",
       "  'UYU': 44.825877,\n",
       "  'UZS': 12264.77501,\n",
       "  'VEF': 232189432959.00476,\n",
       "  'VND': 24936.204877,\n",
       "  'VUV': 122.247779,\n",
       "  'WST': 2.807425,\n",
       "  'XAF': 656.204057,\n",
       "  'XAG': 0.043211,\n",
       "  'XAU': 0.000556,\n",
       "  'XCD': 2.934588,\n",
       "  'XDR': 0.7967,\n",
       "  'XOF': 657.488474,\n",
       "  'XPF': 119.851673,\n",
       "  'YER': 271.736362,\n",
       "  'ZAR': 16.338212,\n",
       "  'ZMK': 9774.040249,\n",
       "  'ZMW': 18.900968,\n",
       "  'ZWL': 349.646097}}"
      ]
     },
     "execution_count": 3,
     "metadata": {},
     "output_type": "execute_result"
    }
   ],
   "source": [
    "# Write your code here\n",
    "url = \"http://api.exchangeratesapi.io/v1/latest?base=EUR&access_key=3ae8a41ae8b314fe2c76abee00969ef2\"  #Make sure to change ******* to your API key.\n",
    "data = json.loads(requests.get(url).text)\n",
    "data"
   ]
  },
  {
   "cell_type": "markdown",
   "metadata": {},
   "source": [
    "### Save as DataFrame\n",
    "\n",
    "<b> Question 2</b>  Using the data gathered turn it into a `pandas` dataframe. The dataframe should have the Currency as the index and `Rate` as their columns. Make sure to drop unnecessary columns.\n"
   ]
  },
  {
   "cell_type": "code",
   "execution_count": 4,
   "metadata": {},
   "outputs": [
    {
     "data": {
      "text/html": [
       "<div>\n",
       "<style scoped>\n",
       "    .dataframe tbody tr th:only-of-type {\n",
       "        vertical-align: middle;\n",
       "    }\n",
       "\n",
       "    .dataframe tbody tr th {\n",
       "        vertical-align: top;\n",
       "    }\n",
       "\n",
       "    .dataframe thead th {\n",
       "        text-align: right;\n",
       "    }\n",
       "</style>\n",
       "<table border=\"1\" class=\"dataframe\">\n",
       "  <thead>\n",
       "    <tr style=\"text-align: right;\">\n",
       "      <th></th>\n",
       "      <th>success</th>\n",
       "      <th>timestamp</th>\n",
       "      <th>base</th>\n",
       "      <th>date</th>\n",
       "      <th>rates</th>\n",
       "    </tr>\n",
       "  </thead>\n",
       "  <tbody>\n",
       "    <tr>\n",
       "      <th>AED</th>\n",
       "      <td>True</td>\n",
       "      <td>1650472696</td>\n",
       "      <td>EUR</td>\n",
       "      <td>2022-04-20</td>\n",
       "      <td>3.988321</td>\n",
       "    </tr>\n",
       "    <tr>\n",
       "      <th>AFN</th>\n",
       "      <td>True</td>\n",
       "      <td>1650472696</td>\n",
       "      <td>EUR</td>\n",
       "      <td>2022-04-20</td>\n",
       "      <td>94.469704</td>\n",
       "    </tr>\n",
       "    <tr>\n",
       "      <th>ALL</th>\n",
       "      <td>True</td>\n",
       "      <td>1650472696</td>\n",
       "      <td>EUR</td>\n",
       "      <td>2022-04-20</td>\n",
       "      <td>120.367796</td>\n",
       "    </tr>\n",
       "    <tr>\n",
       "      <th>AMD</th>\n",
       "      <td>True</td>\n",
       "      <td>1650472696</td>\n",
       "      <td>EUR</td>\n",
       "      <td>2022-04-20</td>\n",
       "      <td>509.495289</td>\n",
       "    </tr>\n",
       "    <tr>\n",
       "      <th>ANG</th>\n",
       "      <td>True</td>\n",
       "      <td>1650472696</td>\n",
       "      <td>EUR</td>\n",
       "      <td>2022-04-20</td>\n",
       "      <td>1.957737</td>\n",
       "    </tr>\n",
       "    <tr>\n",
       "      <th>...</th>\n",
       "      <td>...</td>\n",
       "      <td>...</td>\n",
       "      <td>...</td>\n",
       "      <td>...</td>\n",
       "      <td>...</td>\n",
       "    </tr>\n",
       "    <tr>\n",
       "      <th>YER</th>\n",
       "      <td>True</td>\n",
       "      <td>1650472696</td>\n",
       "      <td>EUR</td>\n",
       "      <td>2022-04-20</td>\n",
       "      <td>271.736362</td>\n",
       "    </tr>\n",
       "    <tr>\n",
       "      <th>ZAR</th>\n",
       "      <td>True</td>\n",
       "      <td>1650472696</td>\n",
       "      <td>EUR</td>\n",
       "      <td>2022-04-20</td>\n",
       "      <td>16.338212</td>\n",
       "    </tr>\n",
       "    <tr>\n",
       "      <th>ZMK</th>\n",
       "      <td>True</td>\n",
       "      <td>1650472696</td>\n",
       "      <td>EUR</td>\n",
       "      <td>2022-04-20</td>\n",
       "      <td>9774.040249</td>\n",
       "    </tr>\n",
       "    <tr>\n",
       "      <th>ZMW</th>\n",
       "      <td>True</td>\n",
       "      <td>1650472696</td>\n",
       "      <td>EUR</td>\n",
       "      <td>2022-04-20</td>\n",
       "      <td>18.900968</td>\n",
       "    </tr>\n",
       "    <tr>\n",
       "      <th>ZWL</th>\n",
       "      <td>True</td>\n",
       "      <td>1650472696</td>\n",
       "      <td>EUR</td>\n",
       "      <td>2022-04-20</td>\n",
       "      <td>349.646097</td>\n",
       "    </tr>\n",
       "  </tbody>\n",
       "</table>\n",
       "<p>168 rows × 5 columns</p>\n",
       "</div>"
      ],
      "text/plain": [
       "     success   timestamp base        date        rates\n",
       "AED     True  1650472696  EUR  2022-04-20     3.988321\n",
       "AFN     True  1650472696  EUR  2022-04-20    94.469704\n",
       "ALL     True  1650472696  EUR  2022-04-20   120.367796\n",
       "AMD     True  1650472696  EUR  2022-04-20   509.495289\n",
       "ANG     True  1650472696  EUR  2022-04-20     1.957737\n",
       "..       ...         ...  ...         ...          ...\n",
       "YER     True  1650472696  EUR  2022-04-20   271.736362\n",
       "ZAR     True  1650472696  EUR  2022-04-20    16.338212\n",
       "ZMK     True  1650472696  EUR  2022-04-20  9774.040249\n",
       "ZMW     True  1650472696  EUR  2022-04-20    18.900968\n",
       "ZWL     True  1650472696  EUR  2022-04-20   349.646097\n",
       "\n",
       "[168 rows x 5 columns]"
      ]
     },
     "execution_count": 4,
     "metadata": {},
     "output_type": "execute_result"
    }
   ],
   "source": [
    "# Turn the data into a dataframe\n",
    "dataframe = pd.DataFrame(data)\n",
    "dataframe\n"
   ]
  },
  {
   "cell_type": "code",
   "execution_count": 11,
   "metadata": {},
   "outputs": [
    {
     "data": {
      "text/html": [
       "<div>\n",
       "<style scoped>\n",
       "    .dataframe tbody tr th:only-of-type {\n",
       "        vertical-align: middle;\n",
       "    }\n",
       "\n",
       "    .dataframe tbody tr th {\n",
       "        vertical-align: top;\n",
       "    }\n",
       "\n",
       "    .dataframe thead th {\n",
       "        text-align: right;\n",
       "    }\n",
       "</style>\n",
       "<table border=\"1\" class=\"dataframe\">\n",
       "  <thead>\n",
       "    <tr style=\"text-align: right;\">\n",
       "      <th></th>\n",
       "      <th>rates</th>\n",
       "    </tr>\n",
       "  </thead>\n",
       "  <tbody>\n",
       "    <tr>\n",
       "      <th>AED</th>\n",
       "      <td>3.988321</td>\n",
       "    </tr>\n",
       "    <tr>\n",
       "      <th>AFN</th>\n",
       "      <td>94.469704</td>\n",
       "    </tr>\n",
       "    <tr>\n",
       "      <th>ALL</th>\n",
       "      <td>120.367796</td>\n",
       "    </tr>\n",
       "    <tr>\n",
       "      <th>AMD</th>\n",
       "      <td>509.495289</td>\n",
       "    </tr>\n",
       "    <tr>\n",
       "      <th>ANG</th>\n",
       "      <td>1.957737</td>\n",
       "    </tr>\n",
       "    <tr>\n",
       "      <th>...</th>\n",
       "      <td>...</td>\n",
       "    </tr>\n",
       "    <tr>\n",
       "      <th>YER</th>\n",
       "      <td>271.736362</td>\n",
       "    </tr>\n",
       "    <tr>\n",
       "      <th>ZAR</th>\n",
       "      <td>16.338212</td>\n",
       "    </tr>\n",
       "    <tr>\n",
       "      <th>ZMK</th>\n",
       "      <td>9774.040249</td>\n",
       "    </tr>\n",
       "    <tr>\n",
       "      <th>ZMW</th>\n",
       "      <td>18.900968</td>\n",
       "    </tr>\n",
       "    <tr>\n",
       "      <th>ZWL</th>\n",
       "      <td>349.646097</td>\n",
       "    </tr>\n",
       "  </tbody>\n",
       "</table>\n",
       "<p>168 rows × 1 columns</p>\n",
       "</div>"
      ],
      "text/plain": [
       "           rates\n",
       "AED     3.988321\n",
       "AFN    94.469704\n",
       "ALL   120.367796\n",
       "AMD   509.495289\n",
       "ANG     1.957737\n",
       "..           ...\n",
       "YER   271.736362\n",
       "ZAR    16.338212\n",
       "ZMK  9774.040249\n",
       "ZMW    18.900968\n",
       "ZWL   349.646097\n",
       "\n",
       "[168 rows x 1 columns]"
      ]
     },
     "execution_count": 5,
     "metadata": {},
     "output_type": "execute_result"
    }
   ],
   "source": [
    "# Drop unnescessary columns\n",
    "dataframe.drop(columns=[\"success\", \"timestamp\", \"base\", \"date\"], inplace=True)\n",
    "dataframe"
   ]
  },
  {
   "cell_type": "markdown",
   "metadata": {},
   "source": [
    "### Load the Data\n",
    "\n",
    "Using the dataframe save it as a CSV names `exchange_rates_1.csv`.\n"
   ]
  },
  {
   "cell_type": "code",
   "execution_count": 9,
   "metadata": {},
   "outputs": [],
   "source": [
    "# Save the Dataframe\n",
    "dataframe.to_csv(\"exchange_rates_1.csv\")"
   ]
  },
  {
   "cell_type": "markdown",
   "metadata": {},
   "source": [
    "Your CSV should be in this format with more currencies\n",
    "\n",
    "|     | Rates      |\n",
    "| --- | ---------- |\n",
    "| AED | 4.398618   |\n",
    "| AFN | 92.917693  |\n",
    "| ALL | 123.099093 |\n",
    "| AMD | 621.935674 |\n",
    "| ANG | 2.149648   |\n"
   ]
  },
  {
   "cell_type": "markdown",
   "metadata": {},
   "source": [
    "## Authors\n"
   ]
  },
  {
   "cell_type": "markdown",
   "metadata": {},
   "source": [
    "Ramesh Sannareddy, Joseph Santarcangelo and Azim Hirjani\n"
   ]
  },
  {
   "cell_type": "markdown",
   "metadata": {},
   "source": [
    "### Other Contributors\n"
   ]
  },
  {
   "cell_type": "markdown",
   "metadata": {},
   "source": [
    "Rav Ahuja\n"
   ]
  },
  {
   "cell_type": "markdown",
   "metadata": {},
   "source": [
    "## Change Log\n"
   ]
  },
  {
   "cell_type": "markdown",
   "metadata": {},
   "source": [
    "| Date (YYYY-MM-DD) | Version | Changed By        | Change Description                 |\n",
    "| ----------------- | ------- | ----------------- | ---------------------------------- |\n",
    "| 2021-04-15        | 0.2     | Malika            | Updated the lab from USD to EUR    |\n",
    "| 2020-11-25        | 0.1     | Ramesh Sannareddy | Created initial version of the lab |\n"
   ]
  },
  {
   "cell_type": "markdown",
   "metadata": {},
   "source": [
    "Copyright © 2020 IBM Corporation. This notebook and its source code are released under the terms of the [MIT License](https://cognitiveclass.ai/mit-license?utm_medium=Exinfluencer&utm_source=Exinfluencer&utm_content=000026UJ&utm_term=10006555&utm_id=NA-SkillsNetwork-Channel-SkillsNetworkCoursesIBMDeveloperSkillsNetworkPY0221ENSkillsNetwork23455645-2021-01-01&cm_mmc=Email_Newsletter-\\_-Developer_Ed%2BTech-\\_-WW_WW-\\_-SkillsNetwork-Courses-IBM-DA0321EN-SkillsNetwork-21426264&cm_mmca1=000026UJ&cm_mmca2=10006555&cm_mmca3=M12345678&cvosrc=email.Newsletter.M12345678&cvo_campaign=000026UJ).\n"
   ]
  }
 ],
 "metadata": {
  "kernelspec": {
   "display_name": "Python",
   "language": "python",
   "name": "conda-env-python-py"
  },
  "language_info": {
   "codemirror_mode": {
    "name": "ipython",
    "version": 3
   },
   "file_extension": ".py",
   "mimetype": "text/x-python",
   "name": "python",
   "nbconvert_exporter": "python",
   "pygments_lexer": "ipython3",
   "version": "3.7.12"
  }
 },
 "nbformat": 4,
 "nbformat_minor": 4
}
